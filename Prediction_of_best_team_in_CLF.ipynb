{
  "nbformat": 4,
  "nbformat_minor": 0,
  "metadata": {
    "colab": {
      "provenance": [],
      "authorship_tag": "ABX9TyP1AAhG1V783OsVJEslWc5l",
      "include_colab_link": true
    },
    "kernelspec": {
      "name": "python3",
      "display_name": "Python 3"
    },
    "language_info": {
      "name": "python"
    }
  },
  "cells": [
    {
      "cell_type": "markdown",
      "metadata": {
        "id": "view-in-github",
        "colab_type": "text"
      },
      "source": [
        "<a href=\"https://colab.research.google.com/github/varshathejes/Prediction-of-best-team-in-CLF/blob/main/Prediction_of_best_team_in_CLF.ipynb\" target=\"_parent\"><img src=\"https://colab.research.google.com/assets/colab-badge.svg\" alt=\"Open In Colab\"/></a>"
      ]
    },
    {
      "cell_type": "code",
      "execution_count": null,
      "metadata": {
        "id": "oIRoO93JpxDE"
      },
      "outputs": [],
      "source": [
        "# Player performance data\n",
        "player_performance = {\n",
        "    'PlayerA': {'goals_scored': 10, 'assists': 5, 'pass_accuracy': 80, 'tackles': 20, 'interceptions': 15},\n",
        "    'PlayerB': {'goals_scored': 8, 'assists': 7, 'pass_accuracy': 85, 'tackles': 18, 'interceptions': 12},\n",
        "    'Playerc': {'goals_scored': 5, 'assists': 9, 'pass_accuracy': 75, 'tackles': 28, 'interceptions': 10},\n",
        "    'Playerd': {'goals_scored': 15, 'assists': 19, 'pass_accuracy': 65, 'tackles': 18, 'interceptions': 19},\n",
        "}"
      ]
    },
    {
      "cell_type": "code",
      "source": [
        "# Team strategy data\n",
        "team_strategies = {\n",
        "    'ManCity': {'formation': 4, 'playing_style': 8, 'defensive_solidity': 7, 'attacking_prowess': 9},\n",
        "    'InterMilan': {'formation': 5, 'playing_style': 7, 'defensive_solidity': 8, 'attacking_prowess': 8},\n",
        "}\n"
      ],
      "metadata": {
        "id": "u5nCdopHq-jM"
      },
      "execution_count": null,
      "outputs": []
    },
    {
      "cell_type": "code",
      "source": [
        "# Head-to-head record data\n",
        "head_to_head_records = {\n",
        "    'ManCity': {'wins': 2, 'goals_scored_h2h': 4, 'goals_conceded_h2h': 3},\n",
        "    'InterMilan': {'wins': 1, 'goals_scored_h2h': 3, 'goals_conceded_h2h': 5},\n",
        "}"
      ],
      "metadata": {
        "id": "me9pKidiq-lg"
      },
      "execution_count": null,
      "outputs": []
    },
    {
      "cell_type": "code",
      "source": [
        "# Define weights for each factor\n",
        "player_performance_weight = 0.6\n",
        "team_strategy_weight = 0.3\n",
        "head_to_head_weight = 0.1\n"
      ],
      "metadata": {
        "id": "34dAKVlaq-oA"
      },
      "execution_count": null,
      "outputs": []
    },
    {
      "cell_type": "code",
      "source": [
        "# Calculate overall scores for each player\n",
        "player_scores = {}\n",
        "for player, performance in player_performance.items():\n",
        "    player_score = (\n",
        "        performance['goals_scored'] * 0.4 +\n",
        "        performance['assists'] * 0.3 +\n",
        "        performance['pass_accuracy'] * 0.1 +\n",
        "        performance['tackles'] * 0.1 +\n",
        "        performance['interceptions'] * 0.1\n",
        "    )\n",
        "    player_scores[player] = player_score\n"
      ],
      "metadata": {
        "id": "y4os42B8q-ql"
      },
      "execution_count": null,
      "outputs": []
    },
    {
      "cell_type": "code",
      "source": [
        "# Calculate overall scores for each team\n",
        "team_scores = {}\n",
        "for team, strategy in team_strategies.items():\n",
        "    team_score = (\n",
        "        strategy['formation'] * 0.4 +\n",
        "        strategy['playing_style'] * 0.3 +\n",
        "        strategy['defensive_solidity'] * 0.15 +\n",
        "        strategy['attacking_prowess'] * 0.15\n",
        "    )\n",
        "    head_to_head_score = (\n",
        "        head_to_head_records[team]['wins'] * 0.5 +\n",
        "        head_to_head_records[team]['goals_scored_h2h'] * 0.25 +\n",
        "        head_to_head_records[team]['goals_conceded_h2h'] * 0.25\n",
        "    )\n",
        "    overall_score = (\n",
        "        player_scores['PlayerA'] * player_performance_weight +\n",
        "        team_score * team_strategy_weight +\n",
        "        head_to_head_score * head_to_head_weight\n",
        "    )\n",
        "    team_scores[team] = overall_score\n",
        "print(team_scores)"
      ],
      "metadata": {
        "colab": {
          "base_uri": "https://localhost:8080/"
        },
        "id": "H2LC83gEq-tR",
        "outputId": "8faad47f-780b-4445-d2a7-df728ffc938c"
      },
      "execution_count": null,
      "outputs": [
        {
          "output_type": "stream",
          "name": "stdout",
          "text": [
            "{'ManCity': 12.395, 'InterMilan': 12.399999999999999}\n"
          ]
        }
      ]
    },
    {
      "cell_type": "code",
      "source": [
        "# Select the best team\n",
        "best_team = max(team_scores, key=team_scores.get)"
      ],
      "metadata": {
        "id": "cyS7AePfq-wC"
      },
      "execution_count": null,
      "outputs": []
    },
    {
      "cell_type": "code",
      "source": [
        "# Print the best team\n",
        "print(\"The best team for the Champions League Final is:\", best_team)"
      ],
      "metadata": {
        "colab": {
          "base_uri": "https://localhost:8080/"
        },
        "id": "eAgyyJVaq-yN",
        "outputId": "0f9f9e25-a2b9-4348-80f5-50ed1be3f947"
      },
      "execution_count": null,
      "outputs": [
        {
          "output_type": "stream",
          "name": "stdout",
          "text": [
            "The best team for the Champions League Final is: InterMilan\n"
          ]
        }
      ]
    },
    {
      "cell_type": "code",
      "source": [],
      "metadata": {
        "id": "3ZLerXPYq-1l"
      },
      "execution_count": null,
      "outputs": []
    }
  ]
}